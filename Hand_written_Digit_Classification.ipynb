{
  "nbformat": 4,
  "nbformat_minor": 0,
  "metadata": {
    "colab": {
      "provenance": []
    },
    "kernelspec": {
      "name": "python3",
      "display_name": "Python 3"
    },
    "language_info": {
      "name": "python"
    }
  },
  "cells": [
    {
      "cell_type": "markdown",
      "source": [
        "#Hand  Written Digit Prediction - Classification Analysis"
      ],
      "metadata": {
        "id": "wos30-WH7O5-"
      }
    },
    {
      "cell_type": "markdown",
      "source": [
        "The digits dataset consists of 8x8 pixel images of digits. the images attribute of the dataset stores 8x8 arrays of grayscale values for each image. we will use these arrays to visualize the dirst 4 images. the target attribute of the dataset stores the digit each image represents"
      ],
      "metadata": {
        "id": "Z5XAcpzW7inr"
      }
    },
    {
      "cell_type": "markdown",
      "source": [
        "##Data Source - [Hand Digit](https://scikit-learn.org/stable/modules/generated/sklearn.datasets.load_digits.html)"
      ],
      "metadata": {
        "id": "yL6Ygq7y82dd"
      }
    },
    {
      "cell_type": "markdown",
      "source": [
        "##Import Library"
      ],
      "metadata": {
        "id": "LTiWnLHE1z28"
      }
    },
    {
      "cell_type": "code",
      "execution_count": null,
      "metadata": {
        "id": "ZGEr7wiP1vZA"
      },
      "outputs": [],
      "source": [
        "import pandas as pd"
      ]
    },
    {
      "cell_type": "code",
      "source": [
        "import numpy as np"
      ],
      "metadata": {
        "id": "xQlPR-vW144P"
      },
      "execution_count": null,
      "outputs": []
    },
    {
      "cell_type": "code",
      "source": [
        "import matplotlib.pyplot as plt"
      ],
      "metadata": {
        "id": "qrWmXeif2DBO"
      },
      "execution_count": null,
      "outputs": []
    },
    {
      "cell_type": "markdown",
      "source": [
        "##Import Data"
      ],
      "metadata": {
        "id": "6MBWGqwF2Ft2"
      }
    },
    {
      "cell_type": "code",
      "source": [
        "from sklearn.datasets import load_digits"
      ],
      "metadata": {
        "id": "sSnRvRKZ2FCH"
      },
      "execution_count": null,
      "outputs": []
    },
    {
      "cell_type": "code",
      "source": [
        "df = load_digits()"
      ],
      "metadata": {
        "id": "iQKA4HIJ2U-4"
      },
      "execution_count": null,
      "outputs": []
    },
    {
      "cell_type": "code",
      "source": [
        "_, axex = plt.subplots(nrows=1, ncols=4, figsize=(10, 3))\n",
        "for ax, image, label in zip(axex, df.images, df.target):\n",
        "  ax.set_axis_off()\n",
        "  ax.imshow(image, cmap=plt.cm.gray_r, interpolation='nearest')\n",
        "  ax.set_title('Training: %i' % label)"
      ],
      "metadata": {
        "colab": {
          "base_uri": "https://localhost:8080/",
          "height": 227
        },
        "id": "00YI-q-42sm9",
        "outputId": "de4f5f9b-56c2-4011-fd83-43d4f174cb0f"
      },
      "execution_count": null,
      "outputs": [
        {
          "output_type": "display_data",
          "data": {
            "text/plain": [
              "<Figure size 1000x300 with 4 Axes>"
            ],
            "image/png": "[encoded data removed]"
          },
          "metadata": {}
        }
      ]
    },
    {
      "cell_type": "markdown",
      "source": [
        "##Data Preprocessing\n"
      ],
      "metadata": {
        "id": "IpGbYCxV20mH"
      }
    },
    {
      "cell_type": "code",
      "source": [
        "df.images.shape"
      ],
      "metadata": {
        "colab": {
          "base_uri": "https://localhost:8080/"
        },
        "id": "l1aAMurM3AL3",
        "outputId": "25e47958-709e-471e-a99f-3d0cb6942c97"
      },
      "execution_count": null,
      "outputs": [
        {
          "output_type": "execute_result",
          "data": {
            "text/plain": [
              "(1797, 8, 8)"
            ]
          },
          "metadata": {},
          "execution_count": 7
        }
      ]
    },
    {
      "cell_type": "code",
      "source": [
        "df.images[0]"
      ],
      "metadata": {
        "colab": {
          "base_uri": "https://localhost:8080/"
        },
        "id": "VXpq5vxi3FS0",
        "outputId": "c59e6fa3-5492-4722-8578-957776efa5c4"
      },
      "execution_count": null,
      "outputs": [
        {
          "output_type": "execute_result",
          "data": {
            "text/plain": [
              "array([[ 0.,  0.,  5., 13.,  9.,  1.,  0.,  0.],\n",
              "       [ 0.,  0., 13., 15., 10., 15.,  5.,  0.],\n",
              "       [ 0.,  3., 15.,  2.,  0., 11.,  8.,  0.],\n",
              "       [ 0.,  4., 12.,  0.,  0.,  8.,  8.,  0.],\n",
              "       [ 0.,  5.,  8.,  0.,  0.,  9.,  8.,  0.],\n",
              "       [ 0.,  4., 11.,  0.,  1., 12.,  7.,  0.],\n",
              "       [ 0.,  2., 14.,  5., 10., 12.,  0.,  0.],\n",
              "       [ 0.,  0.,  6., 13., 10.,  0.,  0.,  0.]])"
            ]
          },
          "metadata": {},
          "execution_count": 8
        }
      ]
    },
    {
      "cell_type": "code",
      "source": [
        "df.images[0].shape"
      ],
      "metadata": {
        "colab": {
          "base_uri": "https://localhost:8080/"
        },
        "id": "9A-GrjV03JVu",
        "outputId": "ba37be0f-6f4e-4269-aa37-d2ef637010fe"
      },
      "execution_count": null,
      "outputs": [
        {
          "output_type": "execute_result",
          "data": {
            "text/plain": [
              "(8, 8)"
            ]
          },
          "metadata": {},
          "execution_count": 9
        }
      ]
    },
    {
      "cell_type": "code",
      "source": [
        "len(df.images)"
      ],
      "metadata": {
        "colab": {
          "base_uri": "https://localhost:8080/"
        },
        "id": "3utYXxQB3R33",
        "outputId": "11bd107e-d85b-4c22-a2ae-521d6c689096"
      },
      "execution_count": null,
      "outputs": [
        {
          "output_type": "execute_result",
          "data": {
            "text/plain": [
              "1797"
            ]
          },
          "metadata": {},
          "execution_count": 10
        }
      ]
    },
    {
      "cell_type": "code",
      "source": [
        "n_samples = len(df.images)\n",
        "data = df.images.reshape((n_samples, -1))"
      ],
      "metadata": {
        "id": "PRgT2FiU3U5n"
      },
      "execution_count": null,
      "outputs": []
    },
    {
      "cell_type": "code",
      "source": [
        "data[0]"
      ],
      "metadata": {
        "colab": {
          "base_uri": "https://localhost:8080/"
        },
        "id": "w88rBrRG3afQ",
        "outputId": "55991813-4cf1-4b9b-89ef-f8f5feec5062"
      },
      "execution_count": null,
      "outputs": [
        {
          "output_type": "execute_result",
          "data": {
            "text/plain": [
              "array([ 0.,  0.,  5., 13.,  9.,  1.,  0.,  0.,  0.,  0., 13., 15., 10.,\n",
              "       15.,  5.,  0.,  0.,  3., 15.,  2.,  0., 11.,  8.,  0.,  0.,  4.,\n",
              "       12.,  0.,  0.,  8.,  8.,  0.,  0.,  5.,  8.,  0.,  0.,  9.,  8.,\n",
              "        0.,  0.,  4., 11.,  0.,  1., 12.,  7.,  0.,  0.,  2., 14.,  5.,\n",
              "       10., 12.,  0.,  0.,  0.,  0.,  6., 13., 10.,  0.,  0.,  0.])"
            ]
          },
          "metadata": {},
          "execution_count": 12
        }
      ]
    },
    {
      "cell_type": "code",
      "source": [
        "data[0].shape"
      ],
      "metadata": {
        "colab": {
          "base_uri": "https://localhost:8080/"
        },
        "id": "14jy6Kwb3ca-",
        "outputId": "62227918-1d30-429e-d25e-5f53217a3149"
      },
      "execution_count": null,
      "outputs": [
        {
          "output_type": "execute_result",
          "data": {
            "text/plain": [
              "(64,)"
            ]
          },
          "metadata": {},
          "execution_count": 13
        }
      ]
    },
    {
      "cell_type": "code",
      "source": [
        "data.shape"
      ],
      "metadata": {
        "colab": {
          "base_uri": "https://localhost:8080/"
        },
        "id": "lFv9WgdI3gWG",
        "outputId": "d5444041-ea68-4cc8-cc9c-ca586e5cd71d"
      },
      "execution_count": null,
      "outputs": [
        {
          "output_type": "execute_result",
          "data": {
            "text/plain": [
              "(1797, 64)"
            ]
          },
          "metadata": {},
          "execution_count": 14
        }
      ]
    },
    {
      "cell_type": "markdown",
      "source": [
        "## Scaling Image Data"
      ],
      "metadata": {
        "id": "iIb7J6-p3mIU"
      }
    },
    {
      "cell_type": "code",
      "source": [
        "data.min()"
      ],
      "metadata": {
        "colab": {
          "base_uri": "https://localhost:8080/"
        },
        "id": "ynh_jfic3ly9",
        "outputId": "93f55d2b-f930-4998-a804-aa3bc0240d06"
      },
      "execution_count": null,
      "outputs": [
        {
          "output_type": "execute_result",
          "data": {
            "text/plain": [
              "0.0"
            ]
          },
          "metadata": {},
          "execution_count": 15
        }
      ]
    },
    {
      "cell_type": "code",
      "source": [
        "data.max()"
      ],
      "metadata": {
        "colab": {
          "base_uri": "https://localhost:8080/"
        },
        "id": "SvZpMJ_-3kvW",
        "outputId": "acb75485-edd4-44b3-f30e-fd8b3fa224c8"
      },
      "execution_count": null,
      "outputs": [
        {
          "output_type": "execute_result",
          "data": {
            "text/plain": [
              "16.0"
            ]
          },
          "metadata": {},
          "execution_count": 16
        }
      ]
    },
    {
      "cell_type": "code",
      "source": [
        "data = data/16"
      ],
      "metadata": {
        "id": "hbMVrs2D3xNd"
      },
      "execution_count": null,
      "outputs": []
    },
    {
      "cell_type": "code",
      "source": [
        "data.min()"
      ],
      "metadata": {
        "colab": {
          "base_uri": "https://localhost:8080/"
        },
        "id": "YvY358Rk35FP",
        "outputId": "94e0a147-301f-45e4-b781-e761fc4e59ad"
      },
      "execution_count": null,
      "outputs": [
        {
          "output_type": "execute_result",
          "data": {
            "text/plain": [
              "0.0"
            ]
          },
          "metadata": {},
          "execution_count": 18
        }
      ]
    },
    {
      "cell_type": "code",
      "source": [
        "data.max()"
      ],
      "metadata": {
        "colab": {
          "base_uri": "https://localhost:8080/"
        },
        "id": "BxtGIliE36t1",
        "outputId": "c0539b22-5fcb-4e49-9496-6a8f16bc8b36"
      },
      "execution_count": null,
      "outputs": [
        {
          "output_type": "execute_result",
          "data": {
            "text/plain": [
              "1.0"
            ]
          },
          "metadata": {},
          "execution_count": 19
        }
      ]
    },
    {
      "cell_type": "code",
      "source": [
        "data[0]"
      ],
      "metadata": {
        "colab": {
          "base_uri": "https://localhost:8080/"
        },
        "id": "av-5EX0l3_3O",
        "outputId": "d145953a-82c7-452a-b451-59866dc7ab14"
      },
      "execution_count": null,
      "outputs": [
        {
          "output_type": "execute_result",
          "data": {
            "text/plain": [
              "array([0.    , 0.    , 0.3125, 0.8125, 0.5625, 0.0625, 0.    , 0.    ,\n",
              "       0.    , 0.    , 0.8125, 0.9375, 0.625 , 0.9375, 0.3125, 0.    ,\n",
              "       0.    , 0.1875, 0.9375, 0.125 , 0.    , 0.6875, 0.5   , 0.    ,\n",
              "       0.    , 0.25  , 0.75  , 0.    , 0.    , 0.5   , 0.5   , 0.    ,\n",
              "       0.    , 0.3125, 0.5   , 0.    , 0.    , 0.5625, 0.5   , 0.    ,\n",
              "       0.    , 0.25  , 0.6875, 0.    , 0.0625, 0.75  , 0.4375, 0.    ,\n",
              "       0.    , 0.125 , 0.875 , 0.3125, 0.625 , 0.75  , 0.    , 0.    ,\n",
              "       0.    , 0.    , 0.375 , 0.8125, 0.625 , 0.    , 0.    , 0.    ])"
            ]
          },
          "metadata": {},
          "execution_count": 20
        }
      ]
    },
    {
      "cell_type": "markdown",
      "source": [
        "##Train Test Split Data"
      ],
      "metadata": {
        "id": "1Sx-2vRr4Fjm"
      }
    },
    {
      "cell_type": "code",
      "source": [
        "from sklearn.model_selection import train_test_split"
      ],
      "metadata": {
        "id": "XEMhUggN4RNf"
      },
      "execution_count": null,
      "outputs": []
    },
    {
      "cell_type": "code",
      "source": [
        "X_train, X_test, y_train, y_test = train_test_split(data, df.target, test_size=0.3)"
      ],
      "metadata": {
        "id": "zZcAIHeS4Vi_"
      },
      "execution_count": null,
      "outputs": []
    },
    {
      "cell_type": "code",
      "source": [
        "X_train.shape, X_test.shape, y_train.shape, y_test.shape"
      ],
      "metadata": {
        "colab": {
          "base_uri": "https://localhost:8080/"
        },
        "id": "gIwusy-64hrW",
        "outputId": "924f172a-a296-4d9b-df64-fe24ac96f7d4"
      },
      "execution_count": null,
      "outputs": [
        {
          "output_type": "execute_result",
          "data": {
            "text/plain": [
              "((1257, 64), (540, 64), (1257,), (540,))"
            ]
          },
          "metadata": {},
          "execution_count": 23
        }
      ]
    },
    {
      "cell_type": "code",
      "source": [],
      "metadata": {
        "id": "LVZjy23b4uYh"
      },
      "execution_count": null,
      "outputs": []
    },
    {
      "cell_type": "markdown",
      "source": [
        "## Random Forest Model"
      ],
      "metadata": {
        "id": "tFfCGwwY4tjS"
      }
    },
    {
      "cell_type": "code",
      "source": [
        "from sklearn.ensemble import RandomForestClassifier"
      ],
      "metadata": {
        "id": "Pe0UF3UA42wm"
      },
      "execution_count": null,
      "outputs": []
    },
    {
      "cell_type": "code",
      "source": [
        "rf = RandomForestClassifier()"
      ],
      "metadata": {
        "id": "etc0bMpf4_Da"
      },
      "execution_count": null,
      "outputs": []
    },
    {
      "cell_type": "code",
      "source": [
        "rf.fit(X_train, y_train)"
      ],
      "metadata": {
        "colab": {
          "base_uri": "https://localhost:8080/",
          "height": 74
        },
        "id": "gNzpXv135BXo",
        "outputId": "52fcd5d0-eb44-4715-c8e5-9329514bd73d"
      },
      "execution_count": null,
      "outputs": [
        {
          "output_type": "execute_result",
          "data": {
            "text/plain": [
              "RandomForestClassifier()"
            ],
            "text/html": [
              "<style>#sk-container-id-1 {color: black;}#sk-container-id-1 pre{padding: 0;}#sk-container-id-1 div.sk-toggleable {background-color: white;}#sk-container-id-1 label.sk-toggleable__label {cursor: pointer;display: block;width: 100%;margin-bottom: 0;padding: 0.3em;box-sizing: border-box;text-align: center;}#sk-container-id-1 label.sk-toggleable__label-arrow:before {content: \"▸\";float: left;margin-right: 0.25em;color: #696969;}#sk-container-id-1 label.sk-toggleable__label-arrow:hover:before {color: black;}#sk-container-id-1 div.sk-estimator:hover label.sk-toggleable__label-arrow:before {color: black;}#sk-container-id-1 div.sk-toggleable__content {max-height: 0;max-width: 0;overflow: hidden;text-align: left;background-color: #f0f8ff;}#sk-container-id-1 div.sk-toggleable__content pre {margin: 0.2em;color: black;border-radius: 0.25em;background-color: #f0f8ff;}#sk-container-id-1 input.sk-toggleable__control:checked~div.sk-toggleable__content {max-height: 200px;max-width: 100%;overflow: auto;}#sk-container-id-1 input.sk-toggleable__control:checked~label.sk-toggleable__label-arrow:before {content: \"▾\";}#sk-container-id-1 div.sk-estimator input.sk-toggleable__control:checked~label.sk-toggleable__label {background-color: #d4ebff;}#sk-container-id-1 div.sk-label input.sk-toggleable__control:checked~label.sk-toggleable__label {background-color: #d4ebff;}#sk-container-id-1 input.sk-hidden--visually {border: 0;clip: rect(1px 1px 1px 1px);clip: rect(1px, 1px, 1px, 1px);height: 1px;margin: -1px;overflow: hidden;padding: 0;position: absolute;width: 1px;}#sk-container-id-1 div.sk-estimator {font-family: monospace;background-color: #f0f8ff;border: 1px dotted black;border-radius: 0.25em;box-sizing: border-box;margin-bottom: 0.5em;}#sk-container-id-1 div.sk-estimator:hover {background-color: #d4ebff;}#sk-container-id-1 div.sk-parallel-item::after {content: \"\";width: 100%;border-bottom: 1px solid gray;flex-grow: 1;}#sk-container-id-1 div.sk-label:hover label.sk-toggleable__label {background-color: #d4ebff;}#sk-container-id-1 div.sk-serial::before {content: \"\";position: absolute;border-left: 1px solid gray;box-sizing: border-box;top: 0;bottom: 0;left: 50%;z-index: 0;}#sk-container-id-1 div.sk-serial {display: flex;flex-direction: column;align-items: center;background-color: white;padding-right: 0.2em;padding-left: 0.2em;position: relative;}#sk-container-id-1 div.sk-item {position: relative;z-index: 1;}#sk-container-id-1 div.sk-parallel {display: flex;align-items: stretch;justify-content: center;background-color: white;position: relative;}#sk-container-id-1 div.sk-item::before, #sk-container-id-1 div.sk-parallel-item::before {content: \"\";position: absolute;border-left: 1px solid gray;box-sizing: border-box;top: 0;bottom: 0;left: 50%;z-index: -1;}#sk-container-id-1 div.sk-parallel-item {display: flex;flex-direction: column;z-index: 1;position: relative;background-color: white;}#sk-container-id-1 div.sk-parallel-item:first-child::after {align-self: flex-end;width: 50%;}#sk-container-id-1 div.sk-parallel-item:last-child::after {align-self: flex-start;width: 50%;}#sk-container-id-1 div.sk-parallel-item:only-child::after {width: 0;}#sk-container-id-1 div.sk-dashed-wrapped {border: 1px dashed gray;margin: 0 0.4em 0.5em 0.4em;box-sizing: border-box;padding-bottom: 0.4em;background-color: white;}#sk-container-id-1 div.sk-label label {font-family: monospace;font-weight: bold;display: inline-block;line-height: 1.2em;}#sk-container-id-1 div.sk-label-container {text-align: center;}#sk-container-id-1 div.sk-container {/* jupyter's `normalize.less` sets `[hidden] { display: none; }` but bootstrap.min.css set `[hidden] { display: none !important; }` so we also need the `!important` here to be able to override the default hidden behavior on the sphinx rendered scikit-learn.org. See: https://github.com/scikit-learn/scikit-learn/issues/21755 */display: inline-block !important;position: relative;}#sk-container-id-1 div.sk-text-repr-fallback {display: none;}</style><div id=\"sk-container-id-1\" class=\"sk-top-container\"><div class=\"sk-text-repr-fallback\"><pre>RandomForestClassifier()</pre><b>In a Jupyter environment, please rerun this cell to show the HTML representation or trust the notebook. <br />On GitHub, the HTML representation is unable to render, please try loading this page with nbviewer.org.</b></div><div class=\"sk-container\" hidden><div class=\"sk-item\"><div class=\"sk-estimator sk-toggleable\"><input class=\"sk-toggleable__control sk-hidden--visually\" id=\"sk-estimator-id-1\" type=\"checkbox\" checked><label for=\"sk-estimator-id-1\" class=\"sk-toggleable__label sk-toggleable__label-arrow\">RandomForestClassifier</label><div class=\"sk-toggleable__content\"><pre>RandomForestClassifier()</pre></div></div></div></div></div>"
            ]
          },
          "metadata": {},
          "execution_count": 26
        }
      ]
    },
    {
      "cell_type": "markdown",
      "source": [
        "##Predict Test Data"
      ],
      "metadata": {
        "id": "uVfzu7Xf5MbQ"
      }
    },
    {
      "cell_type": "code",
      "source": [
        "y_pred = rf.predict(X_test)"
      ],
      "metadata": {
        "id": "2LyAQux45TBQ"
      },
      "execution_count": null,
      "outputs": []
    },
    {
      "cell_type": "code",
      "source": [
        "y_pred"
      ],
      "metadata": {
        "colab": {
          "base_uri": "https://localhost:8080/"
        },
        "id": "mHQVs5YZ5XmH",
        "outputId": "b5923214-b8c9-422e-9536-b9c44b911b0b"
      },
      "execution_count": null,
      "outputs": [
        {
          "output_type": "execute_result",
          "data": {
            "text/plain": [
              "array([3, 3, 0, 8, 9, 7, 2, 5, 4, 7, 4, 9, 6, 2, 8, 3, 7, 5, 2, 6, 1, 9,\n",
              "       5, 7, 1, 4, 1, 2, 2, 7, 5, 0, 5, 9, 5, 9, 4, 4, 2, 1, 9, 4, 2, 8,\n",
              "       2, 3, 9, 7, 3, 3, 8, 8, 1, 7, 4, 8, 2, 5, 7, 9, 9, 9, 6, 0, 7, 5,\n",
              "       6, 9, 5, 9, 8, 3, 3, 2, 8, 2, 0, 7, 4, 0, 3, 6, 6, 3, 7, 1, 9, 0,\n",
              "       6, 2, 2, 4, 9, 5, 2, 9, 9, 4, 9, 6, 3, 7, 3, 2, 6, 9, 5, 3, 5, 7,\n",
              "       6, 1, 6, 4, 4, 2, 0, 6, 1, 4, 6, 3, 4, 7, 7, 2, 9, 6, 4, 1, 6, 0,\n",
              "       3, 5, 6, 5, 3, 6, 2, 2, 4, 8, 5, 3, 5, 4, 7, 4, 2, 3, 4, 8, 1, 0,\n",
              "       5, 4, 4, 6, 3, 9, 4, 2, 0, 9, 0, 3, 4, 8, 0, 3, 2, 7, 6, 0, 5, 1,\n",
              "       1, 1, 7, 4, 0, 1, 0, 3, 5, 1, 2, 2, 2, 9, 2, 5, 6, 9, 8, 1, 6, 0,\n",
              "       6, 6, 8, 3, 3, 4, 2, 7, 8, 1, 6, 9, 3, 6, 0, 9, 3, 9, 3, 6, 0, 5,\n",
              "       6, 0, 9, 7, 5, 1, 0, 4, 5, 3, 5, 7, 6, 6, 3, 8, 6, 8, 2, 4, 3, 2,\n",
              "       9, 0, 9, 7, 8, 5, 7, 9, 9, 1, 8, 4, 1, 4, 8, 8, 1, 8, 0, 7, 0, 8,\n",
              "       6, 3, 1, 1, 5, 6, 4, 2, 3, 2, 5, 9, 9, 3, 6, 8, 4, 7, 3, 2, 2, 1,\n",
              "       3, 0, 6, 0, 3, 6, 0, 7, 6, 0, 1, 9, 9, 3, 3, 8, 9, 0, 0, 6, 0, 3,\n",
              "       0, 7, 1, 0, 1, 0, 1, 7, 4, 1, 5, 7, 4, 2, 0, 5, 0, 8, 2, 9, 4, 3,\n",
              "       1, 8, 5, 0, 1, 7, 8, 1, 6, 0, 1, 0, 1, 0, 4, 6, 6, 1, 4, 6, 4, 9,\n",
              "       9, 8, 1, 4, 9, 3, 5, 3, 9, 3, 9, 3, 8, 3, 0, 6, 3, 6, 7, 9, 1, 5,\n",
              "       5, 6, 3, 4, 5, 6, 4, 9, 1, 5, 4, 2, 9, 8, 2, 5, 1, 4, 9, 0, 7, 8,\n",
              "       5, 2, 9, 1, 7, 3, 2, 0, 5, 2, 0, 1, 1, 6, 1, 9, 8, 4, 2, 8, 3, 9,\n",
              "       8, 1, 8, 2, 6, 4, 2, 5, 3, 4, 9, 6, 6, 9, 1, 1, 6, 8, 7, 0, 3, 2,\n",
              "       9, 6, 4, 3, 5, 6, 2, 0, 5, 4, 4, 7, 0, 1, 8, 5, 6, 0, 7, 5, 4, 0,\n",
              "       3, 8, 8, 0, 2, 8, 7, 6, 4, 1, 2, 0, 1, 9, 5, 6, 7, 7, 7, 2, 0, 2,\n",
              "       2, 2, 8, 2, 7, 8, 7, 5, 8, 1, 5, 4, 1, 1, 2, 6, 9, 2, 6, 3, 2, 0,\n",
              "       1, 3, 5, 2, 8, 6, 6, 9, 8, 1, 0, 3, 2, 0, 8, 7, 4, 7, 5, 1, 2, 8,\n",
              "       4, 2, 4, 1, 0, 7, 2, 6, 9, 4, 6, 1])"
            ]
          },
          "metadata": {},
          "execution_count": 29
        }
      ]
    },
    {
      "cell_type": "markdown",
      "source": [
        "##Model Accuracy"
      ],
      "metadata": {
        "id": "YixgHtG95kjO"
      }
    },
    {
      "cell_type": "code",
      "source": [
        "from sklearn.metrics import confusion_matrix, classification_report"
      ],
      "metadata": {
        "id": "P3TysnmR5Zme"
      },
      "execution_count": null,
      "outputs": []
    },
    {
      "cell_type": "code",
      "source": [
        "confusion_matrix(y_test, y_pred)"
      ],
      "metadata": {
        "colab": {
          "base_uri": "https://localhost:8080/"
        },
        "id": "IZ1TxPgr5wuI",
        "outputId": "890ee19e-3153-42a2-9567-6f6be9be91d0"
      },
      "execution_count": null,
      "outputs": [
        {
          "output_type": "execute_result",
          "data": {
            "text/plain": [
              "array([[55,  0,  0,  0,  0,  0,  0,  0,  0,  0],\n",
              "       [ 0, 56,  0,  1,  0,  0,  0,  0,  0,  0],\n",
              "       [ 0,  0, 59,  0,  0,  0,  0,  0,  0,  0],\n",
              "       [ 0,  0,  0, 53,  0,  0,  0,  0,  0,  0],\n",
              "       [ 0,  0,  0,  0, 54,  0,  0,  0,  0,  0],\n",
              "       [ 0,  0,  0,  0,  1, 48,  0,  0,  1,  1],\n",
              "       [ 0,  0,  0,  0,  0,  0, 61,  0,  0,  0],\n",
              "       [ 0,  0,  0,  0,  0,  0,  0, 45,  0,  0],\n",
              "       [ 0,  1,  1,  1,  0,  0,  0,  0, 46,  1],\n",
              "       [ 0,  0,  0,  1,  0,  0,  0,  0,  0, 54]])"
            ]
          },
          "metadata": {},
          "execution_count": 31
        }
      ]
    },
    {
      "cell_type": "code",
      "source": [
        "print(classification_report(y_test, y_pred))"
      ],
      "metadata": {
        "colab": {
          "base_uri": "https://localhost:8080/"
        },
        "id": "AK5PMNKh52LP",
        "outputId": "83c2c76d-238a-4396-9cb1-7f2c93aac5d5"
      },
      "execution_count": null,
      "outputs": [
        {
          "output_type": "stream",
          "name": "stdout",
          "text": [
            "              precision    recall  f1-score   support\n",
            "\n",
            "           0       1.00      1.00      1.00        55\n",
            "           1       0.98      0.98      0.98        57\n",
            "           2       0.98      1.00      0.99        59\n",
            "           3       0.95      1.00      0.97        53\n",
            "           4       0.98      1.00      0.99        54\n",
            "           5       1.00      0.94      0.97        51\n",
            "           6       1.00      1.00      1.00        61\n",
            "           7       1.00      1.00      1.00        45\n",
            "           8       0.98      0.92      0.95        50\n",
            "           9       0.96      0.98      0.97        55\n",
            "\n",
            "    accuracy                           0.98       540\n",
            "   macro avg       0.98      0.98      0.98       540\n",
            "weighted avg       0.98      0.98      0.98       540\n",
            "\n"
          ]
        }
      ]
    },
    {
      "cell_type": "code",
      "source": [
        "print(classification_report(y_test, y_pred))"
      ],
      "metadata": {
        "colab": {
          "base_uri": "https://localhost:8080/"
        },
        "id": "18S-ngEI5-D-",
        "outputId": "bd706f8d-fc7b-49f1-f06b-86efb806d61b"
      },
      "execution_count": null,
      "outputs": [
        {
          "output_type": "stream",
          "name": "stdout",
          "text": [
            "              precision    recall  f1-score   support\n",
            "\n",
            "           0       1.00      1.00      1.00        55\n",
            "           1       0.98      0.98      0.98        57\n",
            "           2       0.98      1.00      0.99        59\n",
            "           3       0.95      1.00      0.97        53\n",
            "           4       0.98      1.00      0.99        54\n",
            "           5       1.00      0.94      0.97        51\n",
            "           6       1.00      1.00      1.00        61\n",
            "           7       1.00      1.00      1.00        45\n",
            "           8       0.98      0.92      0.95        50\n",
            "           9       0.96      0.98      0.97        55\n",
            "\n",
            "    accuracy                           0.98       540\n",
            "   macro avg       0.98      0.98      0.98       540\n",
            "weighted avg       0.98      0.98      0.98       540\n",
            "\n"
          ]
        }
      ]
    },
    {
      "cell_type": "markdown",
      "source": [
        "##Explaination\n",
        "A Random Forest Classifier model is created and trained on the training data.\n",
        "\n",
        "The trained model is used to predict the digits on the testing set, and the model's performance is evaluated using a confusion matrix and classification report.\n",
        "\n",
        "Here is a breakdown\n",
        "\n",
        "import Libraries:\n",
        "\n",
        "pandas: Used for data manipulation and analysis.\n",
        "\n",
        "numpy: Used for numerical operations on arrays.\n",
        "\n",
        "matplotlib.pyplot: Used for creating visualizations.\n",
        "\n",
        "sklearn.datasets: Used to load the handwritten digits dataset.\n",
        "\n",
        "sklearn.model_selection.train_test_split: Used to split the data into training and testing sets.\n",
        "\n",
        "sklearn.ensemble.RandomForestClassifier: The machine learning model used for classification.\n",
        "\n",
        "sklearn.metrics.confusion_matrix, classification_report: Used to evaluate the performance of the model.\n",
        "\n",
        "Load and Visualize Data:\n",
        "\n",
        "The handwritten digits dataset is loaded using load_digits().\n",
        "\n",
        "The first four images are displayed using matplotlib to visualize the data.\n",
        "\n",
        "Preprocess Data:\n",
        "\n",
        "Reshape Images: The images are reshaped from 8x8 arrays to a flat array of 64 features using reshape((n_samples, -1)).\n",
        "\n",
        "Scale Pixel Values: The pixel values are scaled from a range of 0-16 to 0-1 by dividing by 16. This helps improve the performance of the machine learning model.\n",
        "\n",
        "Split Data:\n",
        "\n",
        "The data is split into training and testing sets using train_test_split with a test size of 30%.\n",
        "\n",
        "Train Model:\n",
        "\n",
        "A Random Forest Classifier model is created using RandomForestClassifier().\n",
        "\n",
        "The model is trained on the training data using fit(X_train, y_train).\n",
        "\n",
        "Predict and Evaluate:\n",
        "\n",
        "The trained model is used to predict the digits on the testing set using predict(X_test).\n",
        "\n",
        "A confusion matrix is generated using confusion_matrix(y_test, y_pred) to visualize the model's performance.\n",
        "\n",
        "A classification report is generated using classification_report(y_test, y_pred) to provide a detailed evaluation of the model's precision, recall, F1-score, and support for each digit class."
      ],
      "metadata": {
        "id": "gxgWfmtUB9v3"
      }
    },
    {
      "cell_type": "code",
      "source": [],
      "metadata": {
        "id": "yvgaAWdMB_gR"
      },
      "execution_count": null,
      "outputs": []
    }
  ]
}